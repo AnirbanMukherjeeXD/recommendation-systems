{
  "nbformat": 4,
  "nbformat_minor": 0,
  "metadata": {
    "colab": {
      "name": "popularity_based_ranking_and_SVD.ipynb",
      "provenance": [],
      "collapsed_sections": [],
      "toc_visible": true
    },
    "kernelspec": {
      "name": "python3",
      "display_name": "Python 3"
    },
    "accelerator": "GPU"
  },
  "cells": [
    {
      "cell_type": "markdown",
      "metadata": {
        "id": "KeFwSDci4xfC"
      },
      "source": [
        "# Product Recommendation Systems"
      ]
    },
    {
      "cell_type": "markdown",
      "metadata": {
        "id": "evEJJBTY84o7"
      },
      "source": [
        "## Importing headers"
      ]
    },
    {
      "cell_type": "code",
      "metadata": {
        "id": "BG3_kfPw8jWO"
      },
      "source": [
        "from collections import defaultdict\n",
        "\n",
        "import numpy as np\n",
        "import pandas as pd\n",
        "import matplotlib.pyplot as plt\n",
        "import seaborn as sns"
      ],
      "execution_count": null,
      "outputs": []
    },
    {
      "cell_type": "code",
      "metadata": {
        "colab": {
          "base_uri": "https://localhost:8080/"
        },
        "id": "-ER4EsDAnsAO",
        "outputId": "fd0bfb77-fddc-4419-9f25-c5f2b45a3403"
      },
      "source": [
        "!pip install Surprise"
      ],
      "execution_count": null,
      "outputs": [
        {
          "output_type": "stream",
          "text": [
            "Collecting Surprise\n",
            "  Downloading https://files.pythonhosted.org/packages/61/de/e5cba8682201fcf9c3719a6fdda95693468ed061945493dea2dd37c5618b/surprise-0.1-py2.py3-none-any.whl\n",
            "Collecting scikit-surprise\n",
            "\u001b[?25l  Downloading https://files.pythonhosted.org/packages/97/37/5d334adaf5ddd65da99fc65f6507e0e4599d092ba048f4302fe8775619e8/scikit-surprise-1.1.1.tar.gz (11.8MB)\n",
            "\u001b[K     |████████████████████████████████| 11.8MB 269kB/s \n",
            "\u001b[?25hRequirement already satisfied: joblib>=0.11 in /usr/local/lib/python3.7/dist-packages (from scikit-surprise->Surprise) (1.0.1)\n",
            "Requirement already satisfied: numpy>=1.11.2 in /usr/local/lib/python3.7/dist-packages (from scikit-surprise->Surprise) (1.19.5)\n",
            "Requirement already satisfied: scipy>=1.0.0 in /usr/local/lib/python3.7/dist-packages (from scikit-surprise->Surprise) (1.4.1)\n",
            "Requirement already satisfied: six>=1.10.0 in /usr/local/lib/python3.7/dist-packages (from scikit-surprise->Surprise) (1.15.0)\n",
            "Building wheels for collected packages: scikit-surprise\n",
            "  Building wheel for scikit-surprise (setup.py) ... \u001b[?25l\u001b[?25hdone\n",
            "  Created wheel for scikit-surprise: filename=scikit_surprise-1.1.1-cp37-cp37m-linux_x86_64.whl size=1615277 sha256=5b37e1483168e903fde43a9649cb39eef38255a56e2d19980f8170f5bf316904\n",
            "  Stored in directory: /root/.cache/pip/wheels/78/9c/3d/41b419c9d2aff5b6e2b4c0fc8d25c538202834058f9ed110d0\n",
            "Successfully built scikit-surprise\n",
            "Installing collected packages: scikit-surprise, Surprise\n",
            "Successfully installed Surprise-0.1 scikit-surprise-1.1.1\n"
          ],
          "name": "stdout"
        }
      ]
    },
    {
      "cell_type": "code",
      "metadata": {
        "id": "0pSG7Iq5nVlF"
      },
      "source": [
        "import surprise"
      ],
      "execution_count": null,
      "outputs": []
    },
    {
      "cell_type": "markdown",
      "metadata": {
        "id": "IuCTFTvf87j0"
      },
      "source": [
        "## Extracting and exploring dataset"
      ]
    },
    {
      "cell_type": "code",
      "metadata": {
        "colab": {
          "base_uri": "https://localhost:8080/"
        },
        "id": "EvDtdL978dHH",
        "outputId": "ec5370da-b632-4c42-b715-6878c15125bb"
      },
      "source": [
        "!gdown --i 1ClBptsK3V5KgKXtK2GSRzFNAW7GnTPDW"
      ],
      "execution_count": null,
      "outputs": [
        {
          "output_type": "stream",
          "text": [
            "Downloading...\n",
            "From: https://drive.google.com/uc?id=1ClBptsK3V5KgKXtK2GSRzFNAW7GnTPDW\n",
            "To: /content/ratings_Electronics.csv\n",
            "319MB [00:03, 94.2MB/s]\n"
          ],
          "name": "stdout"
        }
      ]
    },
    {
      "cell_type": "code",
      "metadata": {
        "colab": {
          "base_uri": "https://localhost:8080/",
          "height": 195
        },
        "id": "AY3TVkp18_Gk",
        "outputId": "2e1dc9c3-bb78-4f14-e2d2-f93c8c58ee80"
      },
      "source": [
        "df=pd.read_csv('ratings_Electronics.csv', names=[ 'userId', 'productId', 'ratings', 'timestamp'])\n",
        "df.head()"
      ],
      "execution_count": null,
      "outputs": [
        {
          "output_type": "execute_result",
          "data": {
            "text/html": [
              "<div>\n",
              "<style scoped>\n",
              "    .dataframe tbody tr th:only-of-type {\n",
              "        vertical-align: middle;\n",
              "    }\n",
              "\n",
              "    .dataframe tbody tr th {\n",
              "        vertical-align: top;\n",
              "    }\n",
              "\n",
              "    .dataframe thead th {\n",
              "        text-align: right;\n",
              "    }\n",
              "</style>\n",
              "<table border=\"1\" class=\"dataframe\">\n",
              "  <thead>\n",
              "    <tr style=\"text-align: right;\">\n",
              "      <th></th>\n",
              "      <th>userId</th>\n",
              "      <th>productId</th>\n",
              "      <th>ratings</th>\n",
              "      <th>timestamp</th>\n",
              "    </tr>\n",
              "  </thead>\n",
              "  <tbody>\n",
              "    <tr>\n",
              "      <th>0</th>\n",
              "      <td>AKM1MP6P0OYPR</td>\n",
              "      <td>0132793040</td>\n",
              "      <td>5.0</td>\n",
              "      <td>1365811200</td>\n",
              "    </tr>\n",
              "    <tr>\n",
              "      <th>1</th>\n",
              "      <td>A2CX7LUOHB2NDG</td>\n",
              "      <td>0321732944</td>\n",
              "      <td>5.0</td>\n",
              "      <td>1341100800</td>\n",
              "    </tr>\n",
              "    <tr>\n",
              "      <th>2</th>\n",
              "      <td>A2NWSAGRHCP8N5</td>\n",
              "      <td>0439886341</td>\n",
              "      <td>1.0</td>\n",
              "      <td>1367193600</td>\n",
              "    </tr>\n",
              "    <tr>\n",
              "      <th>3</th>\n",
              "      <td>A2WNBOD3WNDNKT</td>\n",
              "      <td>0439886341</td>\n",
              "      <td>3.0</td>\n",
              "      <td>1374451200</td>\n",
              "    </tr>\n",
              "    <tr>\n",
              "      <th>4</th>\n",
              "      <td>A1GI0U4ZRJA8WN</td>\n",
              "      <td>0439886341</td>\n",
              "      <td>1.0</td>\n",
              "      <td>1334707200</td>\n",
              "    </tr>\n",
              "  </tbody>\n",
              "</table>\n",
              "</div>"
            ],
            "text/plain": [
              "           userId   productId  ratings   timestamp\n",
              "0   AKM1MP6P0OYPR  0132793040      5.0  1365811200\n",
              "1  A2CX7LUOHB2NDG  0321732944      5.0  1341100800\n",
              "2  A2NWSAGRHCP8N5  0439886341      1.0  1367193600\n",
              "3  A2WNBOD3WNDNKT  0439886341      3.0  1374451200\n",
              "4  A1GI0U4ZRJA8WN  0439886341      1.0  1334707200"
            ]
          },
          "metadata": {
            "tags": []
          },
          "execution_count": 6
        }
      ]
    },
    {
      "cell_type": "markdown",
      "metadata": {
        "id": "tp379Asc-OoB"
      },
      "source": [
        "We drop the 'timestamp' column as it is not needed for our purposes."
      ]
    },
    {
      "cell_type": "code",
      "metadata": {
        "colab": {
          "base_uri": "https://localhost:8080/",
          "height": 195
        },
        "id": "3ocbqjaH9C3D",
        "outputId": "d53ebc32-c6be-4902-b757-e0fbe5ebca50"
      },
      "source": [
        "df=df.drop(['timestamp'],axis=1)\n",
        "df.head()"
      ],
      "execution_count": null,
      "outputs": [
        {
          "output_type": "execute_result",
          "data": {
            "text/html": [
              "<div>\n",
              "<style scoped>\n",
              "    .dataframe tbody tr th:only-of-type {\n",
              "        vertical-align: middle;\n",
              "    }\n",
              "\n",
              "    .dataframe tbody tr th {\n",
              "        vertical-align: top;\n",
              "    }\n",
              "\n",
              "    .dataframe thead th {\n",
              "        text-align: right;\n",
              "    }\n",
              "</style>\n",
              "<table border=\"1\" class=\"dataframe\">\n",
              "  <thead>\n",
              "    <tr style=\"text-align: right;\">\n",
              "      <th></th>\n",
              "      <th>userId</th>\n",
              "      <th>productId</th>\n",
              "      <th>ratings</th>\n",
              "    </tr>\n",
              "  </thead>\n",
              "  <tbody>\n",
              "    <tr>\n",
              "      <th>0</th>\n",
              "      <td>AKM1MP6P0OYPR</td>\n",
              "      <td>0132793040</td>\n",
              "      <td>5.0</td>\n",
              "    </tr>\n",
              "    <tr>\n",
              "      <th>1</th>\n",
              "      <td>A2CX7LUOHB2NDG</td>\n",
              "      <td>0321732944</td>\n",
              "      <td>5.0</td>\n",
              "    </tr>\n",
              "    <tr>\n",
              "      <th>2</th>\n",
              "      <td>A2NWSAGRHCP8N5</td>\n",
              "      <td>0439886341</td>\n",
              "      <td>1.0</td>\n",
              "    </tr>\n",
              "    <tr>\n",
              "      <th>3</th>\n",
              "      <td>A2WNBOD3WNDNKT</td>\n",
              "      <td>0439886341</td>\n",
              "      <td>3.0</td>\n",
              "    </tr>\n",
              "    <tr>\n",
              "      <th>4</th>\n",
              "      <td>A1GI0U4ZRJA8WN</td>\n",
              "      <td>0439886341</td>\n",
              "      <td>1.0</td>\n",
              "    </tr>\n",
              "  </tbody>\n",
              "</table>\n",
              "</div>"
            ],
            "text/plain": [
              "           userId   productId  ratings\n",
              "0   AKM1MP6P0OYPR  0132793040      5.0\n",
              "1  A2CX7LUOHB2NDG  0321732944      5.0\n",
              "2  A2NWSAGRHCP8N5  0439886341      1.0\n",
              "3  A2WNBOD3WNDNKT  0439886341      3.0\n",
              "4  A1GI0U4ZRJA8WN  0439886341      1.0"
            ]
          },
          "metadata": {
            "tags": []
          },
          "execution_count": 7
        }
      ]
    },
    {
      "cell_type": "code",
      "metadata": {
        "colab": {
          "base_uri": "https://localhost:8080/"
        },
        "id": "5bMa-t6g_Plu",
        "outputId": "6a4822af-8d42-4b79-8b2f-c33d73a39554"
      },
      "source": [
        "(df.groupby('userId').size())"
      ],
      "execution_count": null,
      "outputs": [
        {
          "output_type": "execute_result",
          "data": {
            "text/plain": [
              "userId\n",
              "A00000262KYZUE4J55XGL    1\n",
              "A000063614T1OE0BUSKUT    2\n",
              "A00009182QVLSWIGHLS1B    1\n",
              "A00009661LC9LQPGKJ24G    1\n",
              "A00010809P09NUU6ZP6H     1\n",
              "                        ..\n",
              "AZZZOVIBXHGDR            3\n",
              "AZZZRS1YZ8HVP            2\n",
              "AZZZSIK7NFFVP            1\n",
              "AZZZWXXUPZ1F3            1\n",
              "AZZZY1W55XHZR            1\n",
              "Length: 4201696, dtype: int64"
            ]
          },
          "metadata": {
            "tags": []
          },
          "execution_count": 8
        }
      ]
    },
    {
      "cell_type": "markdown",
      "metadata": {
        "id": "IeTFnjITEPoQ"
      },
      "source": [
        "**Creating subset of the dataset**\n",
        "\n",
        "We take a subset of the dataset to make it denser.\n",
        "\n",
        "The array 'required_users' will store the  userId with 50 or more entries (ratings)."
      ]
    },
    {
      "cell_type": "code",
      "metadata": {
        "id": "OyTQTeWbDqDd"
      },
      "source": [
        "required_users=df.groupby('userId').size().index.values[list(df.groupby('userId').size()>=50)]"
      ],
      "execution_count": null,
      "outputs": []
    },
    {
      "cell_type": "code",
      "metadata": {
        "colab": {
          "base_uri": "https://localhost:8080/"
        },
        "id": "8wCBNzdyEjjp",
        "outputId": "8c190346-320a-4cd7-9c64-934038a6546b"
      },
      "source": [
        "len(required_users)"
      ],
      "execution_count": null,
      "outputs": [
        {
          "output_type": "execute_result",
          "data": {
            "text/plain": [
              "1540"
            ]
          },
          "metadata": {
            "tags": []
          },
          "execution_count": 10
        }
      ]
    },
    {
      "cell_type": "code",
      "metadata": {
        "colab": {
          "base_uri": "https://localhost:8080/"
        },
        "id": "z9aT_qIJEvc9",
        "outputId": "b81915fa-2fff-462c-b107-9b311649f96a"
      },
      "source": [
        "required_users"
      ],
      "execution_count": null,
      "outputs": [
        {
          "output_type": "execute_result",
          "data": {
            "text/plain": [
              "array(['A100UD67AHFODS', 'A100WO06OQR8BQ', 'A105S56ODHGJEK', ...,\n",
              "       'AZMY6E8B52L2T', 'AZNUHQSHZHSUE', 'AZOK5STV85FBJ'], dtype=object)"
            ]
          },
          "metadata": {
            "tags": []
          },
          "execution_count": 11
        }
      ]
    },
    {
      "cell_type": "markdown",
      "metadata": {
        "id": "y5qQ0f-FKIt3"
      },
      "source": [
        "Using this array, we subset df into a new dataframe called 'required_df'."
      ]
    },
    {
      "cell_type": "code",
      "metadata": {
        "id": "JhfDrcd6Ijqb"
      },
      "source": [
        "required_df=df[df['userId'].isin(required_users)]"
      ],
      "execution_count": null,
      "outputs": []
    },
    {
      "cell_type": "markdown",
      "metadata": {
        "id": "3r60M8BfisCu"
      },
      "source": [
        "Let's see the number of ratings given by all users.\n"
      ]
    },
    {
      "cell_type": "code",
      "metadata": {
        "colab": {
          "base_uri": "https://localhost:8080/"
        },
        "id": "TT08MwTcJm1d",
        "outputId": "3c58f14c-baf4-453a-b9a8-9959ac57bc05"
      },
      "source": [
        "required_df.groupby('userId').size()"
      ],
      "execution_count": null,
      "outputs": [
        {
          "output_type": "execute_result",
          "data": {
            "text/plain": [
              "userId\n",
              "A100UD67AHFODS    116\n",
              "A100WO06OQR8BQ    132\n",
              "A105S56ODHGJEK     68\n",
              "A105TOJ6LTVMBG     71\n",
              "A10AFVU66A79Y1     65\n",
              "                 ... \n",
              "AZBXKUH4AIW3X      53\n",
              "AZCE11PSTCH1L      60\n",
              "AZMY6E8B52L2T     189\n",
              "AZNUHQSHZHSUE      54\n",
              "AZOK5STV85FBJ      54\n",
              "Length: 1540, dtype: int64"
            ]
          },
          "metadata": {
            "tags": []
          },
          "execution_count": 13
        }
      ]
    },
    {
      "cell_type": "markdown",
      "metadata": {
        "id": "h-CJyLtDOTLN"
      },
      "source": [
        "We can see all these userIds have given equal to or more than 50 ratings."
      ]
    },
    {
      "cell_type": "code",
      "metadata": {
        "colab": {
          "base_uri": "https://localhost:8080/",
          "height": 282
        },
        "id": "AT0h0E4xh1bJ",
        "outputId": "6846698f-db37-4274-b8e2-621d710fad1f"
      },
      "source": [
        "sns.histplot(required_df.groupby('userId').size())"
      ],
      "execution_count": null,
      "outputs": [
        {
          "output_type": "execute_result",
          "data": {
            "text/plain": [
              "<matplotlib.axes._subplots.AxesSubplot at 0x7f8d73679ed0>"
            ]
          },
          "metadata": {
            "tags": []
          },
          "execution_count": 14
        },
        {
          "output_type": "display_data",
          "data": {
            "image/png": "[encoded data removed]",
            "text/plain": [
              "<Figure size 432x288 with 1 Axes>"
            ]
          },
          "metadata": {
            "tags": [],
            "needs_background": "light"
          }
        }
      ]
    },
    {
      "cell_type": "markdown",
      "metadata": {
        "id": "ZR68Txjvid3R"
      },
      "source": [
        "The above histogram shows the counts of ratings of particular productIds. \n",
        "\n",
        "More users have given less number of ratings. Few have given above 300 ratings."
      ]
    },
    {
      "cell_type": "code",
      "metadata": {
        "colab": {
          "base_uri": "https://localhost:8080/",
          "height": 284
        },
        "id": "F1pDFVSQOLX4",
        "outputId": "f52005bc-6f15-44b4-8c8c-493b0d92ba41"
      },
      "source": [
        "required_df.describe()"
      ],
      "execution_count": null,
      "outputs": [
        {
          "output_type": "execute_result",
          "data": {
            "text/html": [
              "<div>\n",
              "<style scoped>\n",
              "    .dataframe tbody tr th:only-of-type {\n",
              "        vertical-align: middle;\n",
              "    }\n",
              "\n",
              "    .dataframe tbody tr th {\n",
              "        vertical-align: top;\n",
              "    }\n",
              "\n",
              "    .dataframe thead th {\n",
              "        text-align: right;\n",
              "    }\n",
              "</style>\n",
              "<table border=\"1\" class=\"dataframe\">\n",
              "  <thead>\n",
              "    <tr style=\"text-align: right;\">\n",
              "      <th></th>\n",
              "      <th>ratings</th>\n",
              "    </tr>\n",
              "  </thead>\n",
              "  <tbody>\n",
              "    <tr>\n",
              "      <th>count</th>\n",
              "      <td>125871.000000</td>\n",
              "    </tr>\n",
              "    <tr>\n",
              "      <th>mean</th>\n",
              "      <td>4.261339</td>\n",
              "    </tr>\n",
              "    <tr>\n",
              "      <th>std</th>\n",
              "      <td>1.062144</td>\n",
              "    </tr>\n",
              "    <tr>\n",
              "      <th>min</th>\n",
              "      <td>1.000000</td>\n",
              "    </tr>\n",
              "    <tr>\n",
              "      <th>25%</th>\n",
              "      <td>4.000000</td>\n",
              "    </tr>\n",
              "    <tr>\n",
              "      <th>50%</th>\n",
              "      <td>5.000000</td>\n",
              "    </tr>\n",
              "    <tr>\n",
              "      <th>75%</th>\n",
              "      <td>5.000000</td>\n",
              "    </tr>\n",
              "    <tr>\n",
              "      <th>max</th>\n",
              "      <td>5.000000</td>\n",
              "    </tr>\n",
              "  </tbody>\n",
              "</table>\n",
              "</div>"
            ],
            "text/plain": [
              "             ratings\n",
              "count  125871.000000\n",
              "mean        4.261339\n",
              "std         1.062144\n",
              "min         1.000000\n",
              "25%         4.000000\n",
              "50%         5.000000\n",
              "75%         5.000000\n",
              "max         5.000000"
            ]
          },
          "metadata": {
            "tags": []
          },
          "execution_count": 15
        }
      ]
    },
    {
      "cell_type": "markdown",
      "metadata": {
        "id": "qHEPdAI8b7UM"
      },
      "source": [
        "Due to majority of 5 ratings, the mean is very close to 5, i.e. 4.26."
      ]
    },
    {
      "cell_type": "code",
      "metadata": {
        "colab": {
          "base_uri": "https://localhost:8080/",
          "height": 296
        },
        "id": "Qic2TFqpbeP9",
        "outputId": "3c0da4a8-7d29-4acf-fdae-059119816abd"
      },
      "source": [
        "sns.countplot(data=required_df, x=\"ratings\")"
      ],
      "execution_count": null,
      "outputs": [
        {
          "output_type": "execute_result",
          "data": {
            "text/plain": [
              "<matplotlib.axes._subplots.AxesSubplot at 0x7f8d73516910>"
            ]
          },
          "metadata": {
            "tags": []
          },
          "execution_count": 16
        },
        {
          "output_type": "display_data",
          "data": {
            "image/png": "[encoded data removed]",
            "text/plain": [
              "<Figure size 432x288 with 1 Axes>"
            ]
          },
          "metadata": {
            "tags": [],
            "needs_background": "light"
          }
        }
      ]
    },
    {
      "cell_type": "markdown",
      "metadata": {
        "id": "jfvPczZDcbmg"
      },
      "source": [
        "With the above chart we can see that more people tend to give higher ratings."
      ]
    },
    {
      "cell_type": "code",
      "metadata": {
        "colab": {
          "base_uri": "https://localhost:8080/"
        },
        "id": "ceNUhXxgN4FN",
        "outputId": "fe973f76-f8b0-47ec-f25a-ce68b2644e27"
      },
      "source": [
        "len(required_df.productId.unique())"
      ],
      "execution_count": null,
      "outputs": [
        {
          "output_type": "execute_result",
          "data": {
            "text/plain": [
              "48190"
            ]
          },
          "metadata": {
            "tags": []
          },
          "execution_count": 17
        }
      ]
    },
    {
      "cell_type": "markdown",
      "metadata": {
        "id": "z7Gsty8oOeWs"
      },
      "source": [
        "We can see there's a total of 48190 productIds."
      ]
    },
    {
      "cell_type": "code",
      "metadata": {
        "colab": {
          "base_uri": "https://localhost:8080/"
        },
        "id": "QQI56gFElPh-",
        "outputId": "59bac969-3dfd-41f2-947c-586f2bcdfa14"
      },
      "source": [
        "df.groupby('productId')['ratings'].count()"
      ],
      "execution_count": null,
      "outputs": [
        {
          "output_type": "execute_result",
          "data": {
            "text/plain": [
              "productId\n",
              "0132793040     1\n",
              "0321732944     1\n",
              "0439886341     3\n",
              "0511189877     6\n",
              "0528881469    27\n",
              "              ..\n",
              "BT008G3W52     1\n",
              "BT008SXQ4C     1\n",
              "BT008T2BGK     1\n",
              "BT008UKTMW    15\n",
              "BT008V9J9U     1\n",
              "Name: ratings, Length: 476002, dtype: int64"
            ]
          },
          "metadata": {
            "tags": []
          },
          "execution_count": 19
        }
      ]
    },
    {
      "cell_type": "code",
      "metadata": {
        "colab": {
          "base_uri": "https://localhost:8080/",
          "height": 282
        },
        "id": "yMLtEhrplZxJ",
        "outputId": "b5cb7e71-e059-43bf-98f1-84e76a25769d"
      },
      "source": [
        "sns.countplot(x=required_df.groupby('productId')['ratings'].count().clip(upper=30).tolist())"
      ],
      "execution_count": null,
      "outputs": [
        {
          "output_type": "execute_result",
          "data": {
            "text/plain": [
              "<matplotlib.axes._subplots.AxesSubplot at 0x7f8d73063250>"
            ]
          },
          "metadata": {
            "tags": []
          },
          "execution_count": 18
        },
        {
          "output_type": "display_data",
          "data": {
            "image/png": "[encoded data removed]",
            "text/plain": [
              "<Figure size 432x288 with 1 Axes>"
            ]
          },
          "metadata": {
            "tags": [],
            "needs_background": "light"
          }
        }
      ]
    },
    {
      "cell_type": "markdown",
      "metadata": {
        "id": "pH4HcmqNldMo"
      },
      "source": [
        "From the above chart, we can see that few products have many ratings."
      ]
    },
    {
      "cell_type": "markdown",
      "metadata": {
        "id": "7TujY_yoIWwu"
      },
      "source": [
        "## Recommendation Models"
      ]
    },
    {
      "cell_type": "code",
      "metadata": {
        "id": "QqpD4BOjIZC8"
      },
      "source": [
        "df=required_df"
      ],
      "execution_count": null,
      "outputs": []
    },
    {
      "cell_type": "markdown",
      "metadata": {
        "id": "9FNpFfbgINQ7"
      },
      "source": [
        "### Popularity based recommendation"
      ]
    },
    {
      "cell_type": "markdown",
      "metadata": {
        "id": "CBWjw1S72A2I"
      },
      "source": [
        "First we'll create a dataframe containing productId and their corresponnding number of ratings (ratings_count) and average rating received (avg_ratings)."
      ]
    },
    {
      "cell_type": "code",
      "metadata": {
        "colab": {
          "base_uri": "https://localhost:8080/",
          "height": 195
        },
        "id": "ni9a4OIDM2_Z",
        "outputId": "f4adb6f2-dcef-4939-c680-4b84a23f9336"
      },
      "source": [
        "# Concatenating count and mean ratings\n",
        "product_df=pd.concat([required_df.groupby('productId').count()['userId'],required_df.groupby('productId').mean('ratings')],axis=1)\n",
        "\n",
        "# Converting index into keys (column names)\n",
        "product_df=product_df.reset_index()\n",
        "\n",
        "# Renaming column names\n",
        "product_df=product_df.rename(columns={'userId':'ratings_count','ratings':'avg_ratings'})\n",
        "\n",
        "product_df.head()"
      ],
      "execution_count": null,
      "outputs": [
        {
          "output_type": "execute_result",
          "data": {
            "text/html": [
              "<div>\n",
              "<style scoped>\n",
              "    .dataframe tbody tr th:only-of-type {\n",
              "        vertical-align: middle;\n",
              "    }\n",
              "\n",
              "    .dataframe tbody tr th {\n",
              "        vertical-align: top;\n",
              "    }\n",
              "\n",
              "    .dataframe thead th {\n",
              "        text-align: right;\n",
              "    }\n",
              "</style>\n",
              "<table border=\"1\" class=\"dataframe\">\n",
              "  <thead>\n",
              "    <tr style=\"text-align: right;\">\n",
              "      <th></th>\n",
              "      <th>productId</th>\n",
              "      <th>ratings_count</th>\n",
              "      <th>avg_ratings</th>\n",
              "    </tr>\n",
              "  </thead>\n",
              "  <tbody>\n",
              "    <tr>\n",
              "      <th>0</th>\n",
              "      <td>0594451647</td>\n",
              "      <td>1</td>\n",
              "      <td>5.000000</td>\n",
              "    </tr>\n",
              "    <tr>\n",
              "      <th>1</th>\n",
              "      <td>0594481813</td>\n",
              "      <td>1</td>\n",
              "      <td>3.000000</td>\n",
              "    </tr>\n",
              "    <tr>\n",
              "      <th>2</th>\n",
              "      <td>0970407998</td>\n",
              "      <td>2</td>\n",
              "      <td>2.500000</td>\n",
              "    </tr>\n",
              "    <tr>\n",
              "      <th>3</th>\n",
              "      <td>0972683275</td>\n",
              "      <td>4</td>\n",
              "      <td>4.750000</td>\n",
              "    </tr>\n",
              "    <tr>\n",
              "      <th>4</th>\n",
              "      <td>1400501466</td>\n",
              "      <td>6</td>\n",
              "      <td>3.333333</td>\n",
              "    </tr>\n",
              "  </tbody>\n",
              "</table>\n",
              "</div>"
            ],
            "text/plain": [
              "    productId  ratings_count  avg_ratings\n",
              "0  0594451647              1     5.000000\n",
              "1  0594481813              1     3.000000\n",
              "2  0970407998              2     2.500000\n",
              "3  0972683275              4     4.750000\n",
              "4  1400501466              6     3.333333"
            ]
          },
          "metadata": {
            "tags": []
          },
          "execution_count": 20
        }
      ]
    },
    {
      "cell_type": "markdown",
      "metadata": {
        "id": "E5RWcMqYUWVY"
      },
      "source": [
        "For determining the popularity of a product, we'll use a weighted rating value for each product. \n",
        "\n",
        "We use the following formula to calculate the weighted average for every product:\n",
        "\n",
        "`weighted_rating=(avg_ratings * ratings_count + mean_rating * count_cutoff)/(ratings_count + count_cutoff))`"
      ]
    },
    {
      "cell_type": "markdown",
      "metadata": {
        "id": "xC0oQhh52RTh"
      },
      "source": [
        "First we take a cutoff for the number of ratings. "
      ]
    },
    {
      "cell_type": "code",
      "metadata": {
        "colab": {
          "base_uri": "https://localhost:8080/"
        },
        "id": "dBlXUqnLRc8t",
        "outputId": "40a19160-c590-4efb-b9eb-2e5af81c21e0"
      },
      "source": [
        "cutoff=0.95\n",
        "product_df.quantile(cutoff)"
      ],
      "execution_count": null,
      "outputs": [
        {
          "output_type": "execute_result",
          "data": {
            "text/plain": [
              "ratings_count    9.0\n",
              "avg_ratings      5.0\n",
              "Name: 0.95, dtype: float64"
            ]
          },
          "metadata": {
            "tags": []
          },
          "execution_count": 22
        }
      ]
    },
    {
      "cell_type": "markdown",
      "metadata": {
        "id": "MCfoBzsMVYb9"
      },
      "source": [
        "We take that cutoff to be 0.95, which means that for a product to be popular, it must have more ratings than at least 95 % of the products."
      ]
    },
    {
      "cell_type": "code",
      "metadata": {
        "colab": {
          "base_uri": "https://localhost:8080/"
        },
        "id": "zS24lmNyO-at",
        "outputId": "3dc4a640-c076-45dd-9b02-c706f2013f61"
      },
      "source": [
        "count_cutoff=product_df.quantile(cutoff)['ratings_count']\n",
        "count_cutoff"
      ],
      "execution_count": null,
      "outputs": [
        {
          "output_type": "execute_result",
          "data": {
            "text/plain": [
              "9.0"
            ]
          },
          "metadata": {
            "tags": []
          },
          "execution_count": 23
        }
      ]
    },
    {
      "cell_type": "markdown",
      "metadata": {
        "id": "-tZjwHsTVyBw"
      },
      "source": [
        "Now we take the mean of the average ratings of the products."
      ]
    },
    {
      "cell_type": "code",
      "metadata": {
        "colab": {
          "base_uri": "https://localhost:8080/"
        },
        "id": "xVIzTS5JTnNM",
        "outputId": "acb48b4e-ca80-4c1f-ea86-e47e76303e5d"
      },
      "source": [
        "# Mean of avg_ratings\n",
        "\n",
        "mean_rating=df['ratings'].mean()\n",
        "mean_rating"
      ],
      "execution_count": null,
      "outputs": [
        {
          "output_type": "execute_result",
          "data": {
            "text/plain": [
              "4.26133898991825"
            ]
          },
          "metadata": {
            "tags": []
          },
          "execution_count": 24
        }
      ]
    },
    {
      "cell_type": "markdown",
      "metadata": {
        "id": "6R_9vZpK2lvr"
      },
      "source": [
        "Now we find the weighted rating of each product."
      ]
    },
    {
      "cell_type": "code",
      "metadata": {
        "colab": {
          "base_uri": "https://localhost:8080/",
          "height": 195
        },
        "id": "01hw-98-V4qW",
        "outputId": "ba75c835-2e1a-47ee-9d7f-b5196019d08b"
      },
      "source": [
        "product_df['weighted_rating']=product_df.apply(lambda row : (row['avg_ratings'] * row['ratings_count'] + mean_rating*count_cutoff)/(row['ratings_count']+count_cutoff), axis = 1)\n",
        "product_df.head()"
      ],
      "execution_count": null,
      "outputs": [
        {
          "output_type": "execute_result",
          "data": {
            "text/html": [
              "<div>\n",
              "<style scoped>\n",
              "    .dataframe tbody tr th:only-of-type {\n",
              "        vertical-align: middle;\n",
              "    }\n",
              "\n",
              "    .dataframe tbody tr th {\n",
              "        vertical-align: top;\n",
              "    }\n",
              "\n",
              "    .dataframe thead th {\n",
              "        text-align: right;\n",
              "    }\n",
              "</style>\n",
              "<table border=\"1\" class=\"dataframe\">\n",
              "  <thead>\n",
              "    <tr style=\"text-align: right;\">\n",
              "      <th></th>\n",
              "      <th>productId</th>\n",
              "      <th>ratings_count</th>\n",
              "      <th>avg_ratings</th>\n",
              "      <th>weighted_rating</th>\n",
              "    </tr>\n",
              "  </thead>\n",
              "  <tbody>\n",
              "    <tr>\n",
              "      <th>0</th>\n",
              "      <td>0594451647</td>\n",
              "      <td>1</td>\n",
              "      <td>5.000000</td>\n",
              "      <td>4.335205</td>\n",
              "    </tr>\n",
              "    <tr>\n",
              "      <th>1</th>\n",
              "      <td>0594481813</td>\n",
              "      <td>1</td>\n",
              "      <td>3.000000</td>\n",
              "      <td>4.135205</td>\n",
              "    </tr>\n",
              "    <tr>\n",
              "      <th>2</th>\n",
              "      <td>0970407998</td>\n",
              "      <td>2</td>\n",
              "      <td>2.500000</td>\n",
              "      <td>3.941096</td>\n",
              "    </tr>\n",
              "    <tr>\n",
              "      <th>3</th>\n",
              "      <td>0972683275</td>\n",
              "      <td>4</td>\n",
              "      <td>4.750000</td>\n",
              "      <td>4.411696</td>\n",
              "    </tr>\n",
              "    <tr>\n",
              "      <th>4</th>\n",
              "      <td>1400501466</td>\n",
              "      <td>6</td>\n",
              "      <td>3.333333</td>\n",
              "      <td>3.890137</td>\n",
              "    </tr>\n",
              "  </tbody>\n",
              "</table>\n",
              "</div>"
            ],
            "text/plain": [
              "    productId  ratings_count  avg_ratings  weighted_rating\n",
              "0  0594451647              1     5.000000         4.335205\n",
              "1  0594481813              1     3.000000         4.135205\n",
              "2  0970407998              2     2.500000         3.941096\n",
              "3  0972683275              4     4.750000         4.411696\n",
              "4  1400501466              6     3.333333         3.890137"
            ]
          },
          "metadata": {
            "tags": []
          },
          "execution_count": 25
        }
      ]
    },
    {
      "cell_type": "markdown",
      "metadata": {
        "id": "rV62CXdf2vgH"
      },
      "source": [
        "We modify this dataframe and keep just the productId and the corresponding weighted rating in descending order."
      ]
    },
    {
      "cell_type": "code",
      "metadata": {
        "colab": {
          "base_uri": "https://localhost:8080/",
          "height": 195
        },
        "id": "13QeIMnzaqXs",
        "outputId": "6156cf5e-8cff-476e-a656-d97707938d47"
      },
      "source": [
        "# Sorting in descending order with respect to weighted_rating. Also removing index.\n",
        "product_ratings=product_df.sort_values('weighted_rating',ascending=False).reset_index(drop=True)\n",
        "\n",
        "# Dropping columns ratings_count and avg_ratings\n",
        "product_ratings=product_ratings.drop(['ratings_count','avg_ratings'],axis=1)\n",
        "\n",
        "product_ratings.head(5)"
      ],
      "execution_count": null,
      "outputs": [
        {
          "output_type": "execute_result",
          "data": {
            "text/html": [
              "<div>\n",
              "<style scoped>\n",
              "    .dataframe tbody tr th:only-of-type {\n",
              "        vertical-align: middle;\n",
              "    }\n",
              "\n",
              "    .dataframe tbody tr th {\n",
              "        vertical-align: top;\n",
              "    }\n",
              "\n",
              "    .dataframe thead th {\n",
              "        text-align: right;\n",
              "    }\n",
              "</style>\n",
              "<table border=\"1\" class=\"dataframe\">\n",
              "  <thead>\n",
              "    <tr style=\"text-align: right;\">\n",
              "      <th></th>\n",
              "      <th>productId</th>\n",
              "      <th>weighted_rating</th>\n",
              "    </tr>\n",
              "  </thead>\n",
              "  <tbody>\n",
              "    <tr>\n",
              "      <th>0</th>\n",
              "      <td>B0052SCU8U</td>\n",
              "      <td>4.868139</td>\n",
              "    </tr>\n",
              "    <tr>\n",
              "      <th>1</th>\n",
              "      <td>B003ES5ZUU</td>\n",
              "      <td>4.836021</td>\n",
              "    </tr>\n",
              "    <tr>\n",
              "      <th>2</th>\n",
              "      <td>B001TH7GUU</td>\n",
              "      <td>4.808644</td>\n",
              "    </tr>\n",
              "    <tr>\n",
              "      <th>3</th>\n",
              "      <td>B001TH7T2U</td>\n",
              "      <td>4.803103</td>\n",
              "    </tr>\n",
              "    <tr>\n",
              "      <th>4</th>\n",
              "      <td>B00BQ4F9ZA</td>\n",
              "      <td>4.802816</td>\n",
              "    </tr>\n",
              "  </tbody>\n",
              "</table>\n",
              "</div>"
            ],
            "text/plain": [
              "    productId  weighted_rating\n",
              "0  B0052SCU8U         4.868139\n",
              "1  B003ES5ZUU         4.836021\n",
              "2  B001TH7GUU         4.808644\n",
              "3  B001TH7T2U         4.803103\n",
              "4  B00BQ4F9ZA         4.802816"
            ]
          },
          "metadata": {
            "tags": []
          },
          "execution_count": 26
        }
      ]
    },
    {
      "cell_type": "code",
      "metadata": {
        "colab": {
          "base_uri": "https://localhost:8080/",
          "height": 296
        },
        "id": "WyMxgy-RcvR-",
        "outputId": "305cc96d-b08f-4528-e02f-8670cf9f0cd9"
      },
      "source": [
        "sns.barplot(y=product_ratings.head(5)['weighted_rating'],x=product_ratings.head(5)['productId'])"
      ],
      "execution_count": null,
      "outputs": [
        {
          "output_type": "execute_result",
          "data": {
            "text/plain": [
              "<matplotlib.axes._subplots.AxesSubplot at 0x7f8d7355ba50>"
            ]
          },
          "metadata": {
            "tags": []
          },
          "execution_count": 27
        },
        {
          "output_type": "display_data",
          "data": {
            "image/png": "[encoded data removed]",
            "text/plain": [
              "<Figure size 432x288 with 1 Axes>"
            ]
          },
          "metadata": {
            "tags": [],
            "needs_background": "light"
          }
        }
      ]
    },
    {
      "cell_type": "markdown",
      "metadata": {
        "id": "Riwi4CfdcZ8S"
      },
      "source": [
        "These are the top 5 items as per weighted rating (popularity)."
      ]
    },
    {
      "cell_type": "markdown",
      "metadata": {
        "id": "rqus9IM7nRoq"
      },
      "source": [
        "### Collaborative Filtering"
      ]
    },
    {
      "cell_type": "markdown",
      "metadata": {
        "id": "8fCWb7OMxUGz"
      },
      "source": [
        "We prepare the data as per requirements of surprise library."
      ]
    },
    {
      "cell_type": "code",
      "metadata": {
        "id": "U4UY8Aa3o1zT"
      },
      "source": [
        "# Our rating scale is 1 to 5.\n",
        "\n",
        "reader = surprise.Reader(rating_scale=(1, 5))\n",
        "data = surprise.Dataset.load_from_df(df[['userId', 'productId', 'ratings']], reader)"
      ],
      "execution_count": null,
      "outputs": []
    },
    {
      "cell_type": "markdown",
      "metadata": {
        "id": "WP1xHyEDxZw9"
      },
      "source": [
        "We split the data into training set (70%) and testing set (30%)."
      ]
    },
    {
      "cell_type": "code",
      "metadata": {
        "id": "GSRLTcCfp1bx"
      },
      "source": [
        "train_data, test_data = surprise.model_selection.train_test_split(data, test_size=0.3)"
      ],
      "execution_count": null,
      "outputs": []
    },
    {
      "cell_type": "markdown",
      "metadata": {
        "id": "aJYVaYiMxyzi"
      },
      "source": [
        "We'll use Singular value decomposition model which is a collaborative filtering method."
      ]
    },
    {
      "cell_type": "code",
      "metadata": {
        "colab": {
          "base_uri": "https://localhost:8080/"
        },
        "id": "nr_bu6jUqTmb",
        "outputId": "f503bb26-6f4e-4892-cf30-6c7545f06e74"
      },
      "source": [
        "model=surprise.SVD()\n",
        "model.fit(train_data)"
      ],
      "execution_count": null,
      "outputs": [
        {
          "output_type": "execute_result",
          "data": {
            "text/plain": [
              "<surprise.prediction_algorithms.matrix_factorization.SVD at 0x7f8d64922ad0>"
            ]
          },
          "metadata": {
            "tags": []
          },
          "execution_count": 53
        }
      ]
    },
    {
      "cell_type": "markdown",
      "metadata": {
        "id": "mJ2sqEb6yLJB"
      },
      "source": [
        "We make predictions using the test data and check the performance."
      ]
    },
    {
      "cell_type": "code",
      "metadata": {
        "colab": {
          "base_uri": "https://localhost:8080/"
        },
        "id": "s0hHA1urnzZ5",
        "outputId": "52e8e178-bb63-49c6-e57e-92a1ac5a8d4d"
      },
      "source": [
        "predictions = model.test(test_data)\n",
        "surprise.accuracy.rmse(predictions)"
      ],
      "execution_count": null,
      "outputs": [
        {
          "output_type": "stream",
          "text": [
            "RMSE: 0.9805\n"
          ],
          "name": "stdout"
        },
        {
          "output_type": "execute_result",
          "data": {
            "text/plain": [
              "0.9804987790692632"
            ]
          },
          "metadata": {
            "tags": []
          },
          "execution_count": 55
        }
      ]
    },
    {
      "cell_type": "markdown",
      "metadata": {
        "id": "-1KkKW9GytK0"
      },
      "source": [
        "We can see we have a RMSE value of 0.98, overall nice performance."
      ]
    },
    {
      "cell_type": "code",
      "metadata": {
        "colab": {
          "base_uri": "https://localhost:8080/"
        },
        "id": "k9JMyz3sPlmj",
        "outputId": "c8068040-4918-44a8-f6a4-b480e952ac18"
      },
      "source": [
        "predictions[:10]"
      ],
      "execution_count": null,
      "outputs": [
        {
          "output_type": "execute_result",
          "data": {
            "text/plain": [
              "[Prediction(uid='AK3GKIV8DEY8B', iid='B0068LA636', r_ui=3.0, est=4.62150797495403, details={'was_impossible': False}),\n",
              " Prediction(uid='A6VPK7X53QNAQ', iid='B0017TFVUW', r_ui=4.0, est=3.241741569579996, details={'was_impossible': False}),\n",
              " Prediction(uid='A27H61OHW44XA7', iid='B001FA1NK0', r_ui=5.0, est=4.155396597779117, details={'was_impossible': False}),\n",
              " Prediction(uid='A3IUW081KXD3PE', iid='B003VANOI6', r_ui=5.0, est=4.338092117467701, details={'was_impossible': False}),\n",
              " Prediction(uid='A2KHG3JOFXQ4CE', iid='B0057OCDQS', r_ui=4.0, est=3.5699975906567607, details={'was_impossible': False}),\n",
              " Prediction(uid='A1K4G5YJDJQI6Q', iid='B002Q2M8KK', r_ui=4.0, est=2.6404563175989266, details={'was_impossible': False}),\n",
              " Prediction(uid='A11I1I9QLMAM1A', iid='B00IF4OATU', r_ui=5.0, est=4.404590586200711, details={'was_impossible': False}),\n",
              " Prediction(uid='AGXMC3ITWZASE', iid='B006JP2UXA', r_ui=5.0, est=3.9400753162482003, details={'was_impossible': False}),\n",
              " Prediction(uid='A4UGMKUSX9XHI', iid='B003DZJQQI', r_ui=5.0, est=5, details={'was_impossible': False}),\n",
              " Prediction(uid='ATNOI7E8GTIVE', iid='B000VE4PNS', r_ui=5.0, est=4.335690933909474, details={'was_impossible': False})]"
            ]
          },
          "metadata": {
            "tags": []
          },
          "execution_count": 58
        }
      ]
    },
    {
      "cell_type": "markdown",
      "metadata": {
        "id": "gwC5lhjGzzvk"
      },
      "source": [
        "These are the first 10 prediction results.\n",
        "\n",
        "Now, we make a dictionary which stores the top k recommendations of all the users.\n",
        "\n",
        "We will take k=5."
      ]
    },
    {
      "cell_type": "code",
      "metadata": {
        "id": "9wZwzhAhv_Dk"
      },
      "source": [
        "k=5"
      ],
      "execution_count": null,
      "outputs": []
    },
    {
      "cell_type": "code",
      "metadata": {
        "id": "I53JbVwRvpdc"
      },
      "source": [
        "# Creating the dictionary with all predictions.\n",
        "\n",
        "top_k = defaultdict(list)\n",
        "for uid, iid, true_r, est, _ in predictions:\n",
        "  top_k[uid].append((iid, est))"
      ],
      "execution_count": null,
      "outputs": []
    },
    {
      "cell_type": "code",
      "metadata": {
        "id": "PHmh4ASGvifs"
      },
      "source": [
        "# Sort the predictions for each user and retrieve the k highest ones.\n",
        "\n",
        "for uid, user_ratings in top_k.items():\n",
        "  user_ratings.sort(key=lambda x: x[1], reverse=True)\n",
        "  top_k[uid] = user_ratings[:k]"
      ],
      "execution_count": null,
      "outputs": []
    },
    {
      "cell_type": "markdown",
      "metadata": {
        "id": "qh7H5x750Xlg"
      },
      "source": [
        "Now we'll check for a sample userId A100UD67AHFODS."
      ]
    },
    {
      "cell_type": "code",
      "metadata": {
        "colab": {
          "base_uri": "https://localhost:8080/"
        },
        "id": "gMaBOGLjo5Ew",
        "outputId": "0ec9faae-3dfd-447c-e325-0433be79c09a"
      },
      "source": [
        "user='A100UD67AHFODS'\n",
        "top_k[user]"
      ],
      "execution_count": null,
      "outputs": [
        {
          "output_type": "execute_result",
          "data": {
            "text/plain": [
              "[('B00A83I8G2', 4.843121552853124),\n",
              " ('B0002SQ2P2', 4.7614989859364805),\n",
              " ('B0097BEF1S', 4.6616597339071495),\n",
              " ('B002NU5S02', 4.659598810339439),\n",
              " ('B0001D3K8A', 4.652097787898034)]"
            ]
          },
          "metadata": {
            "tags": []
          },
          "execution_count": 66
        }
      ]
    },
    {
      "cell_type": "markdown",
      "metadata": {
        "id": "xyRWPw8T0cUn"
      },
      "source": [
        "We can see the top 5 recommended productIds, along with the predicted ratings by the model. We can see the predicted ratings are in descending order."
      ]
    },
    {
      "cell_type": "markdown",
      "metadata": {
        "id": "1sEBjRhT0qoi"
      },
      "source": [
        "### Summary of models"
      ]
    },
    {
      "cell_type": "markdown",
      "metadata": {
        "id": "rHFC-tuV0tQY"
      },
      "source": [
        "For the popularity based recommendation, we can see that it is a simple model and works on the concept of weighted average of the number of user ratings and the rating values. One challenge of this model is that it is not personalized to any user based on the user's interest/past activities'. Therefore, it is useful where a general recommendation has to be made for any user.\n",
        "\n",
        "In collaborative filtering, the model learns the relation between the user and the ratings they gave for the products. Based on this learning, it tries to predict what another user with similar activities might prefer. Therefore, this method is useful where personalized recommendation is needed."
      ]
    }
  ]
}